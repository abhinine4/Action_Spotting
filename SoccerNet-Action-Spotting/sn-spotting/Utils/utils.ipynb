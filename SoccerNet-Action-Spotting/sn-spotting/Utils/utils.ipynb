{
 "cells": [
  {
   "cell_type": "markdown",
   "metadata": {},
   "source": [
    "## Extracting the Audio file from the video."
   ]
  },
  {
   "cell_type": "code",
   "execution_count": 2,
   "metadata": {},
   "outputs": [
    {
     "name": "stdout",
     "output_type": "stream",
     "text": [
      "MoviePy - Writing audio in theaudio.wav\n"
     ]
    },
    {
     "name": "stderr",
     "output_type": "stream",
     "text": [
      "                                                                    "
     ]
    },
    {
     "name": "stdout",
     "output_type": "stream",
     "text": [
      "MoviePy - Done.\n"
     ]
    },
    {
     "name": "stderr",
     "output_type": "stream",
     "text": [
      "\r"
     ]
    }
   ],
   "source": [
    "import moviepy.editor as mp\n",
    "clip = mp.VideoFileClip(\"/home/csgrad/akumar58/soccernet/spotting_data/sample_data/1_224p.mkv\")\n",
    "clip.audio.write_audiofile(\"theaudio.wav\")"
   ]
  },
  {
   "cell_type": "markdown",
   "metadata": {},
   "source": [
    "## Transcribing the Audio file"
   ]
  },
  {
   "cell_type": "markdown",
   "metadata": {},
   "source": [
    "### Using google API"
   ]
  },
  {
   "cell_type": "code",
   "execution_count": 6,
   "metadata": {},
   "outputs": [
    {
     "name": "stdout",
     "output_type": "stream",
     "text": [
      "result2:\n",
      "{   'alternative': [   {   'confidence': 0.94258678,\n",
      "                           'transcript': 'but after a full stop off we go '\n",
      "                                         'Paris saint-german with the kickoff '\n",
      "                                         'playing from right to left they '\n",
      "                                         \"start tonight's fixtures second in \"\n",
      "                                         'the league two points behind Leon '\n",
      "                                         'who won their game against yesterday '\n",
      "                                         'and two points above my site of '\n",
      "                                         \"course I'm\"},\n",
      "                       {   'transcript': 'but after a full stop off we go '\n",
      "                                         'Paris saint-german with the kickoff '\n",
      "                                         'playing from right to left they '\n",
      "                                         \"start tonight's fixtures second in \"\n",
      "                                         'the league two points behind Leon '\n",
      "                                         'who won their game against yesterday '\n",
      "                                         'and two points above my site of '\n",
      "                                         'course am I'},\n",
      "                       {   'transcript': 'what after a full stop off we go '\n",
      "                                         'Paris saint-german with the kickoff '\n",
      "                                         'playing from right to left they '\n",
      "                                         \"start tonight's fixtures second in \"\n",
      "                                         'the league two points behind Leon '\n",
      "                                         'who won their game against yesterday '\n",
      "                                         'and two points above my site of '\n",
      "                                         \"course I'm\"},\n",
      "                       {   'transcript': 'what after a full stop off we go '\n",
      "                                         'Paris saint-german with the kickoff '\n",
      "                                         'playing from right to left they '\n",
      "                                         \"start tonight's fixtures second in \"\n",
      "                                         'the league two points behind Leon '\n",
      "                                         'who won their game against yesterday '\n",
      "                                         'and two points above my site of '\n",
      "                                         'course am I'},\n",
      "                       {   'transcript': 'but after a full stop off we go '\n",
      "                                         'Paris saint-german with the kickoff '\n",
      "                                         'playing from right to left they '\n",
      "                                         \"start tonight's fixtures second in \"\n",
      "                                         'the league two points behind Leon '\n",
      "                                         'who won their game against yesterday '\n",
      "                                         'and two points above my site of '\n",
      "                                         'course I might'}],\n",
      "    'final': True}\n",
      "but after a full stop off we go Paris saint-german with the kickoff playing from right to left they start tonight's fixtures second in the league two points behind Leon who won their game against yesterday and two points above my site of course I'm\n"
     ]
    }
   ],
   "source": [
    "import speech_recognition as sr\n",
    "\n",
    "r = sr.Recognizer()\n",
    "\n",
    "audio_file = sr.AudioFile('theaudio.wav')\n",
    "\n",
    "with audio_file as source:\n",
    "    audio_data = r.record(source)\n",
    "\n",
    "text = r.recognize_google(audio_data)\n",
    "print(text)"
   ]
  },
  {
   "attachments": {},
   "cell_type": "markdown",
   "metadata": {},
   "source": [
    "### Using CMU pocketsphinx"
   ]
  },
  {
   "cell_type": "code",
   "execution_count": 8,
   "metadata": {},
   "outputs": [],
   "source": [
    "import os\n",
    "import wave\n",
    "from pocketsphinx import get_model_path"
   ]
  },
  {
   "cell_type": "code",
   "execution_count": 9,
   "metadata": {},
   "outputs": [],
   "source": [
    "model_path = get_model_path()\n",
    "data_directory = os.path.join(model_path, 'en-us')"
   ]
  },
  {
   "cell_type": "code",
   "execution_count": 10,
   "metadata": {},
   "outputs": [
    {
     "name": "stdout",
     "output_type": "stream",
     "text": [
      "and they what what have you made ham you have viewed it have what and good get into act and how and help when it the of the hit he knew you'd get him you you it get you what it do he a packet of view how it could go read view it the\n"
     ]
    }
   ],
   "source": [
    "from pocketsphinx import AudioFile, get_model_path\n",
    "\n",
    "model_path = get_model_path()\n",
    "data_directory = os.path.join(model_path, 'en-us')\n",
    "\n",
    "audio_file = \"theaudio.wav\"\n",
    "audio = AudioFile(audio_file)\n",
    "\n",
    "for phrase in audio:\n",
    "    print(phrase)"
   ]
  },
  {
   "cell_type": "code",
   "execution_count": 17,
   "metadata": {},
   "outputs": [
    {
     "name": "stdout",
     "output_type": "stream",
     "text": [
      "/home/csgrad/mbhosale/anaconda3/envs/sn-spotting/lib/python3.11/site-packages/pocketsphinx/model\n"
     ]
    }
   ],
   "source": [
    "print(model_path)"
   ]
  },
  {
   "cell_type": "markdown",
   "metadata": {},
   "source": [
    "#### For action fromer we want all the i3d features at single place, below code just copies the I#D features to single ouput directory."
   ]
  },
  {
   "cell_type": "code",
   "execution_count": 14,
   "metadata": {},
   "outputs": [],
   "source": [
    "import os\n",
    "import shutil\n",
    "import glob\n",
    "\n",
    "def get_files_recursively(start_directory, filter_extension=''):\n",
    "    files = glob.glob(f'{start_directory}/**/*{filter_extension}', \n",
    "                   recursive = True)\n",
    "    return files\n",
    "\n",
    "def selective_copy(source, target, file_extension=None):\n",
    "    if not os.path.exists(target):\n",
    "        os.makedirs(target)\n",
    "    file_names = get_files_recursively(source, file_extension)\n",
    "    for file in file_names:\n",
    "        if file.split(\"/\")[-1] == \"1_I3D.npy\" or file.split(\"/\")[-1] == \"2_I3D.npy\":\n",
    "            fname_parts = file.split(\"/\")[-4:]\n",
    "            fname_parts[2] = fname_parts[2].replace(\" \", \"_\")\n",
    "            new_file = '*'.join(fname_parts)\n",
    "            new_file = os.path.join(target, new_file)\n",
    "            shutil.copyfile(file, new_file)"
   ]
  },
  {
   "cell_type": "code",
   "execution_count": 17,
   "metadata": {},
   "outputs": [],
   "source": [
    "if __name__ == \"__main__\":\n",
    "    selective_copy(\"/home/csgrad/akumar58/soccernet/spotting_data/spotting_video/\",\n",
    "                   \"/home/csgrad/mbhosale/SoccerNet-Action-Spotting/actionformer_release/data/soccernet/i3d_features\",\n",
    "                   \"I3D.npy\")"
   ]
  },
  {
   "cell_type": "code",
   "execution_count": null,
   "metadata": {},
   "outputs": [],
   "source": []
  }
 ],
 "metadata": {
  "kernelspec": {
   "display_name": "sn-spotting",
   "language": "python",
   "name": "python3"
  },
  "language_info": {
   "codemirror_mode": {
    "name": "ipython",
    "version": 3
   },
   "file_extension": ".py",
   "mimetype": "text/x-python",
   "name": "python",
   "nbconvert_exporter": "python",
   "pygments_lexer": "ipython3",
   "version": "3.10.10"
  },
  "orig_nbformat": 4,
  "vscode": {
   "interpreter": {
    "hash": "3c1e17d071b4de5a3474a1ad267e1ff127bf08704cd609c84406815bf36dcae8"
   }
  }
 },
 "nbformat": 4,
 "nbformat_minor": 2
}
